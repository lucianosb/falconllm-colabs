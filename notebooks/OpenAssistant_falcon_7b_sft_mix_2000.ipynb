{
  "nbformat": 4,
  "nbformat_minor": 0,
  "metadata": {
    "colab": {
      "provenance": [],
      "gpuType": "A100"
    },
    "kernelspec": {
      "name": "python3",
      "display_name": "Python 3"
    },
    "language_info": {
      "name": "python"
    },
    "accelerator": "GPU",
    "widgets": {
      "application/vnd.jupyter.widget-state+json": {
        "b88f5ba20f1d45bfb297f8b8cb5cbc40": {
          "model_module": "@jupyter-widgets/controls",
          "model_name": "HBoxModel",
          "model_module_version": "1.5.0",
          "state": {
            "_dom_classes": [],
            "_model_module": "@jupyter-widgets/controls",
            "_model_module_version": "1.5.0",
            "_model_name": "HBoxModel",
            "_view_count": null,
            "_view_module": "@jupyter-widgets/controls",
            "_view_module_version": "1.5.0",
            "_view_name": "HBoxView",
            "box_style": "",
            "children": [
              "IPY_MODEL_f40fcee2d9924a45b015f6eb085e9ccc",
              "IPY_MODEL_8c49e483d4174576b84fe5d7a439db26",
              "IPY_MODEL_1ae55a4b0cc547b69eb7967a5d07c97a"
            ],
            "layout": "IPY_MODEL_71b133bd723648caaed698e898776ca8"
          }
        },
        "f40fcee2d9924a45b015f6eb085e9ccc": {
          "model_module": "@jupyter-widgets/controls",
          "model_name": "HTMLModel",
          "model_module_version": "1.5.0",
          "state": {
            "_dom_classes": [],
            "_model_module": "@jupyter-widgets/controls",
            "_model_module_version": "1.5.0",
            "_model_name": "HTMLModel",
            "_view_count": null,
            "_view_module": "@jupyter-widgets/controls",
            "_view_module_version": "1.5.0",
            "_view_name": "HTMLView",
            "description": "",
            "description_tooltip": null,
            "layout": "IPY_MODEL_73ebfd79071f4515891795f32a9c0a1f",
            "placeholder": "​",
            "style": "IPY_MODEL_eb248aa21746490a809782cd860b2fd5",
            "value": "Downloading (…)okenizer_config.json: 100%"
          }
        },
        "8c49e483d4174576b84fe5d7a439db26": {
          "model_module": "@jupyter-widgets/controls",
          "model_name": "FloatProgressModel",
          "model_module_version": "1.5.0",
          "state": {
            "_dom_classes": [],
            "_model_module": "@jupyter-widgets/controls",
            "_model_module_version": "1.5.0",
            "_model_name": "FloatProgressModel",
            "_view_count": null,
            "_view_module": "@jupyter-widgets/controls",
            "_view_module_version": "1.5.0",
            "_view_name": "ProgressView",
            "bar_style": "success",
            "description": "",
            "description_tooltip": null,
            "layout": "IPY_MODEL_c1c201e5912547b48633cfe95663184b",
            "max": 215,
            "min": 0,
            "orientation": "horizontal",
            "style": "IPY_MODEL_1f9fc01576a247949e0aa73d8e8afe46",
            "value": 215
          }
        },
        "1ae55a4b0cc547b69eb7967a5d07c97a": {
          "model_module": "@jupyter-widgets/controls",
          "model_name": "HTMLModel",
          "model_module_version": "1.5.0",
          "state": {
            "_dom_classes": [],
            "_model_module": "@jupyter-widgets/controls",
            "_model_module_version": "1.5.0",
            "_model_name": "HTMLModel",
            "_view_count": null,
            "_view_module": "@jupyter-widgets/controls",
            "_view_module_version": "1.5.0",
            "_view_name": "HTMLView",
            "description": "",
            "description_tooltip": null,
            "layout": "IPY_MODEL_5d57fd5eb1d247c1a74dbd1c33fb7afe",
            "placeholder": "​",
            "style": "IPY_MODEL_04ac92d3fd8d4f93851f5fdd3198bd1b",
            "value": " 215/215 [00:00&lt;00:00, 15.8kB/s]"
          }
        },
        "71b133bd723648caaed698e898776ca8": {
          "model_module": "@jupyter-widgets/base",
          "model_name": "LayoutModel",
          "model_module_version": "1.2.0",
          "state": {
            "_model_module": "@jupyter-widgets/base",
            "_model_module_version": "1.2.0",
            "_model_name": "LayoutModel",
            "_view_count": null,
            "_view_module": "@jupyter-widgets/base",
            "_view_module_version": "1.2.0",
            "_view_name": "LayoutView",
            "align_content": null,
            "align_items": null,
            "align_self": null,
            "border": null,
            "bottom": null,
            "display": null,
            "flex": null,
            "flex_flow": null,
            "grid_area": null,
            "grid_auto_columns": null,
            "grid_auto_flow": null,
            "grid_auto_rows": null,
            "grid_column": null,
            "grid_gap": null,
            "grid_row": null,
            "grid_template_areas": null,
            "grid_template_columns": null,
            "grid_template_rows": null,
            "height": null,
            "justify_content": null,
            "justify_items": null,
            "left": null,
            "margin": null,
            "max_height": null,
            "max_width": null,
            "min_height": null,
            "min_width": null,
            "object_fit": null,
            "object_position": null,
            "order": null,
            "overflow": null,
            "overflow_x": null,
            "overflow_y": null,
            "padding": null,
            "right": null,
            "top": null,
            "visibility": null,
            "width": null
          }
        },
        "73ebfd79071f4515891795f32a9c0a1f": {
          "model_module": "@jupyter-widgets/base",
          "model_name": "LayoutModel",
          "model_module_version": "1.2.0",
          "state": {
            "_model_module": "@jupyter-widgets/base",
            "_model_module_version": "1.2.0",
            "_model_name": "LayoutModel",
            "_view_count": null,
            "_view_module": "@jupyter-widgets/base",
            "_view_module_version": "1.2.0",
            "_view_name": "LayoutView",
            "align_content": null,
            "align_items": null,
            "align_self": null,
            "border": null,
            "bottom": null,
            "display": null,
            "flex": null,
            "flex_flow": null,
            "grid_area": null,
            "grid_auto_columns": null,
            "grid_auto_flow": null,
            "grid_auto_rows": null,
            "grid_column": null,
            "grid_gap": null,
            "grid_row": null,
            "grid_template_areas": null,
            "grid_template_columns": null,
            "grid_template_rows": null,
            "height": null,
            "justify_content": null,
            "justify_items": null,
            "left": null,
            "margin": null,
            "max_height": null,
            "max_width": null,
            "min_height": null,
            "min_width": null,
            "object_fit": null,
            "object_position": null,
            "order": null,
            "overflow": null,
            "overflow_x": null,
            "overflow_y": null,
            "padding": null,
            "right": null,
            "top": null,
            "visibility": null,
            "width": null
          }
        },
        "eb248aa21746490a809782cd860b2fd5": {
          "model_module": "@jupyter-widgets/controls",
          "model_name": "DescriptionStyleModel",
          "model_module_version": "1.5.0",
          "state": {
            "_model_module": "@jupyter-widgets/controls",
            "_model_module_version": "1.5.0",
            "_model_name": "DescriptionStyleModel",
            "_view_count": null,
            "_view_module": "@jupyter-widgets/base",
            "_view_module_version": "1.2.0",
            "_view_name": "StyleView",
            "description_width": ""
          }
        },
        "c1c201e5912547b48633cfe95663184b": {
          "model_module": "@jupyter-widgets/base",
          "model_name": "LayoutModel",
          "model_module_version": "1.2.0",
          "state": {
            "_model_module": "@jupyter-widgets/base",
            "_model_module_version": "1.2.0",
            "_model_name": "LayoutModel",
            "_view_count": null,
            "_view_module": "@jupyter-widgets/base",
            "_view_module_version": "1.2.0",
            "_view_name": "LayoutView",
            "align_content": null,
            "align_items": null,
            "align_self": null,
            "border": null,
            "bottom": null,
            "display": null,
            "flex": null,
            "flex_flow": null,
            "grid_area": null,
            "grid_auto_columns": null,
            "grid_auto_flow": null,
            "grid_auto_rows": null,
            "grid_column": null,
            "grid_gap": null,
            "grid_row": null,
            "grid_template_areas": null,
            "grid_template_columns": null,
            "grid_template_rows": null,
            "height": null,
            "justify_content": null,
            "justify_items": null,
            "left": null,
            "margin": null,
            "max_height": null,
            "max_width": null,
            "min_height": null,
            "min_width": null,
            "object_fit": null,
            "object_position": null,
            "order": null,
            "overflow": null,
            "overflow_x": null,
            "overflow_y": null,
            "padding": null,
            "right": null,
            "top": null,
            "visibility": null,
            "width": null
          }
        },
        "1f9fc01576a247949e0aa73d8e8afe46": {
          "model_module": "@jupyter-widgets/controls",
          "model_name": "ProgressStyleModel",
          "model_module_version": "1.5.0",
          "state": {
            "_model_module": "@jupyter-widgets/controls",
            "_model_module_version": "1.5.0",
            "_model_name": "ProgressStyleModel",
            "_view_count": null,
            "_view_module": "@jupyter-widgets/base",
            "_view_module_version": "1.2.0",
            "_view_name": "StyleView",
            "bar_color": null,
            "description_width": ""
          }
        },
        "5d57fd5eb1d247c1a74dbd1c33fb7afe": {
          "model_module": "@jupyter-widgets/base",
          "model_name": "LayoutModel",
          "model_module_version": "1.2.0",
          "state": {
            "_model_module": "@jupyter-widgets/base",
            "_model_module_version": "1.2.0",
            "_model_name": "LayoutModel",
            "_view_count": null,
            "_view_module": "@jupyter-widgets/base",
            "_view_module_version": "1.2.0",
            "_view_name": "LayoutView",
            "align_content": null,
            "align_items": null,
            "align_self": null,
            "border": null,
            "bottom": null,
            "display": null,
            "flex": null,
            "flex_flow": null,
            "grid_area": null,
            "grid_auto_columns": null,
            "grid_auto_flow": null,
            "grid_auto_rows": null,
            "grid_column": null,
            "grid_gap": null,
            "grid_row": null,
            "grid_template_areas": null,
            "grid_template_columns": null,
            "grid_template_rows": null,
            "height": null,
            "justify_content": null,
            "justify_items": null,
            "left": null,
            "margin": null,
            "max_height": null,
            "max_width": null,
            "min_height": null,
            "min_width": null,
            "object_fit": null,
            "object_position": null,
            "order": null,
            "overflow": null,
            "overflow_x": null,
            "overflow_y": null,
            "padding": null,
            "right": null,
            "top": null,
            "visibility": null,
            "width": null
          }
        },
        "04ac92d3fd8d4f93851f5fdd3198bd1b": {
          "model_module": "@jupyter-widgets/controls",
          "model_name": "DescriptionStyleModel",
          "model_module_version": "1.5.0",
          "state": {
            "_model_module": "@jupyter-widgets/controls",
            "_model_module_version": "1.5.0",
            "_model_name": "DescriptionStyleModel",
            "_view_count": null,
            "_view_module": "@jupyter-widgets/base",
            "_view_module_version": "1.2.0",
            "_view_name": "StyleView",
            "description_width": ""
          }
        },
        "9dd25ef47b6a4cb385ef9c73d85a7a78": {
          "model_module": "@jupyter-widgets/controls",
          "model_name": "HBoxModel",
          "model_module_version": "1.5.0",
          "state": {
            "_dom_classes": [],
            "_model_module": "@jupyter-widgets/controls",
            "_model_module_version": "1.5.0",
            "_model_name": "HBoxModel",
            "_view_count": null,
            "_view_module": "@jupyter-widgets/controls",
            "_view_module_version": "1.5.0",
            "_view_name": "HBoxView",
            "box_style": "",
            "children": [
              "IPY_MODEL_153e523ed0c149ccab59348e6f17a92a",
              "IPY_MODEL_68535d4677554e64bbbbcaaccf429ea3",
              "IPY_MODEL_3134da0113334e009250936e23a97934"
            ],
            "layout": "IPY_MODEL_99892f25ccbe408fa1945b4ff0acf160"
          }
        },
        "153e523ed0c149ccab59348e6f17a92a": {
          "model_module": "@jupyter-widgets/controls",
          "model_name": "HTMLModel",
          "model_module_version": "1.5.0",
          "state": {
            "_dom_classes": [],
            "_model_module": "@jupyter-widgets/controls",
            "_model_module_version": "1.5.0",
            "_model_name": "HTMLModel",
            "_view_count": null,
            "_view_module": "@jupyter-widgets/controls",
            "_view_module_version": "1.5.0",
            "_view_name": "HTMLView",
            "description": "",
            "description_tooltip": null,
            "layout": "IPY_MODEL_3b21a0099c8449c289c058df526a481b",
            "placeholder": "​",
            "style": "IPY_MODEL_1da8674f896544a19d3a8f985a1216e9",
            "value": "Downloading (…)/main/tokenizer.json: 100%"
          }
        },
        "68535d4677554e64bbbbcaaccf429ea3": {
          "model_module": "@jupyter-widgets/controls",
          "model_name": "FloatProgressModel",
          "model_module_version": "1.5.0",
          "state": {
            "_dom_classes": [],
            "_model_module": "@jupyter-widgets/controls",
            "_model_module_version": "1.5.0",
            "_model_name": "FloatProgressModel",
            "_view_count": null,
            "_view_module": "@jupyter-widgets/controls",
            "_view_module_version": "1.5.0",
            "_view_name": "ProgressView",
            "bar_style": "success",
            "description": "",
            "description_tooltip": null,
            "layout": "IPY_MODEL_f5a256fd7e6f4673acdcdb0bf5d00956",
            "max": 2735103,
            "min": 0,
            "orientation": "horizontal",
            "style": "IPY_MODEL_d1b3b55774c346c4b5f99ebc9746abe1",
            "value": 2735103
          }
        },
        "3134da0113334e009250936e23a97934": {
          "model_module": "@jupyter-widgets/controls",
          "model_name": "HTMLModel",
          "model_module_version": "1.5.0",
          "state": {
            "_dom_classes": [],
            "_model_module": "@jupyter-widgets/controls",
            "_model_module_version": "1.5.0",
            "_model_name": "HTMLModel",
            "_view_count": null,
            "_view_module": "@jupyter-widgets/controls",
            "_view_module_version": "1.5.0",
            "_view_name": "HTMLView",
            "description": "",
            "description_tooltip": null,
            "layout": "IPY_MODEL_7a3e1f6c573a4e9e8af81559b42be8fc",
            "placeholder": "​",
            "style": "IPY_MODEL_da83eaaab443409f8d7e283c4ba5f671",
            "value": " 2.74M/2.74M [00:00&lt;00:00, 22.6MB/s]"
          }
        },
        "99892f25ccbe408fa1945b4ff0acf160": {
          "model_module": "@jupyter-widgets/base",
          "model_name": "LayoutModel",
          "model_module_version": "1.2.0",
          "state": {
            "_model_module": "@jupyter-widgets/base",
            "_model_module_version": "1.2.0",
            "_model_name": "LayoutModel",
            "_view_count": null,
            "_view_module": "@jupyter-widgets/base",
            "_view_module_version": "1.2.0",
            "_view_name": "LayoutView",
            "align_content": null,
            "align_items": null,
            "align_self": null,
            "border": null,
            "bottom": null,
            "display": null,
            "flex": null,
            "flex_flow": null,
            "grid_area": null,
            "grid_auto_columns": null,
            "grid_auto_flow": null,
            "grid_auto_rows": null,
            "grid_column": null,
            "grid_gap": null,
            "grid_row": null,
            "grid_template_areas": null,
            "grid_template_columns": null,
            "grid_template_rows": null,
            "height": null,
            "justify_content": null,
            "justify_items": null,
            "left": null,
            "margin": null,
            "max_height": null,
            "max_width": null,
            "min_height": null,
            "min_width": null,
            "object_fit": null,
            "object_position": null,
            "order": null,
            "overflow": null,
            "overflow_x": null,
            "overflow_y": null,
            "padding": null,
            "right": null,
            "top": null,
            "visibility": null,
            "width": null
          }
        },
        "3b21a0099c8449c289c058df526a481b": {
          "model_module": "@jupyter-widgets/base",
          "model_name": "LayoutModel",
          "model_module_version": "1.2.0",
          "state": {
            "_model_module": "@jupyter-widgets/base",
            "_model_module_version": "1.2.0",
            "_model_name": "LayoutModel",
            "_view_count": null,
            "_view_module": "@jupyter-widgets/base",
            "_view_module_version": "1.2.0",
            "_view_name": "LayoutView",
            "align_content": null,
            "align_items": null,
            "align_self": null,
            "border": null,
            "bottom": null,
            "display": null,
            "flex": null,
            "flex_flow": null,
            "grid_area": null,
            "grid_auto_columns": null,
            "grid_auto_flow": null,
            "grid_auto_rows": null,
            "grid_column": null,
            "grid_gap": null,
            "grid_row": null,
            "grid_template_areas": null,
            "grid_template_columns": null,
            "grid_template_rows": null,
            "height": null,
            "justify_content": null,
            "justify_items": null,
            "left": null,
            "margin": null,
            "max_height": null,
            "max_width": null,
            "min_height": null,
            "min_width": null,
            "object_fit": null,
            "object_position": null,
            "order": null,
            "overflow": null,
            "overflow_x": null,
            "overflow_y": null,
            "padding": null,
            "right": null,
            "top": null,
            "visibility": null,
            "width": null
          }
        },
        "1da8674f896544a19d3a8f985a1216e9": {
          "model_module": "@jupyter-widgets/controls",
          "model_name": "DescriptionStyleModel",
          "model_module_version": "1.5.0",
          "state": {
            "_model_module": "@jupyter-widgets/controls",
            "_model_module_version": "1.5.0",
            "_model_name": "DescriptionStyleModel",
            "_view_count": null,
            "_view_module": "@jupyter-widgets/base",
            "_view_module_version": "1.2.0",
            "_view_name": "StyleView",
            "description_width": ""
          }
        },
        "f5a256fd7e6f4673acdcdb0bf5d00956": {
          "model_module": "@jupyter-widgets/base",
          "model_name": "LayoutModel",
          "model_module_version": "1.2.0",
          "state": {
            "_model_module": "@jupyter-widgets/base",
            "_model_module_version": "1.2.0",
            "_model_name": "LayoutModel",
            "_view_count": null,
            "_view_module": "@jupyter-widgets/base",
            "_view_module_version": "1.2.0",
            "_view_name": "LayoutView",
            "align_content": null,
            "align_items": null,
            "align_self": null,
            "border": null,
            "bottom": null,
            "display": null,
            "flex": null,
            "flex_flow": null,
            "grid_area": null,
            "grid_auto_columns": null,
            "grid_auto_flow": null,
            "grid_auto_rows": null,
            "grid_column": null,
            "grid_gap": null,
            "grid_row": null,
            "grid_template_areas": null,
            "grid_template_columns": null,
            "grid_template_rows": null,
            "height": null,
            "justify_content": null,
            "justify_items": null,
            "left": null,
            "margin": null,
            "max_height": null,
            "max_width": null,
            "min_height": null,
            "min_width": null,
            "object_fit": null,
            "object_position": null,
            "order": null,
            "overflow": null,
            "overflow_x": null,
            "overflow_y": null,
            "padding": null,
            "right": null,
            "top": null,
            "visibility": null,
            "width": null
          }
        },
        "d1b3b55774c346c4b5f99ebc9746abe1": {
          "model_module": "@jupyter-widgets/controls",
          "model_name": "ProgressStyleModel",
          "model_module_version": "1.5.0",
          "state": {
            "_model_module": "@jupyter-widgets/controls",
            "_model_module_version": "1.5.0",
            "_model_name": "ProgressStyleModel",
            "_view_count": null,
            "_view_module": "@jupyter-widgets/base",
            "_view_module_version": "1.2.0",
            "_view_name": "StyleView",
            "bar_color": null,
            "description_width": ""
          }
        },
        "7a3e1f6c573a4e9e8af81559b42be8fc": {
          "model_module": "@jupyter-widgets/base",
          "model_name": "LayoutModel",
          "model_module_version": "1.2.0",
          "state": {
            "_model_module": "@jupyter-widgets/base",
            "_model_module_version": "1.2.0",
            "_model_name": "LayoutModel",
            "_view_count": null,
            "_view_module": "@jupyter-widgets/base",
            "_view_module_version": "1.2.0",
            "_view_name": "LayoutView",
            "align_content": null,
            "align_items": null,
            "align_self": null,
            "border": null,
            "bottom": null,
            "display": null,
            "flex": null,
            "flex_flow": null,
            "grid_area": null,
            "grid_auto_columns": null,
            "grid_auto_flow": null,
            "grid_auto_rows": null,
            "grid_column": null,
            "grid_gap": null,
            "grid_row": null,
            "grid_template_areas": null,
            "grid_template_columns": null,
            "grid_template_rows": null,
            "height": null,
            "justify_content": null,
            "justify_items": null,
            "left": null,
            "margin": null,
            "max_height": null,
            "max_width": null,
            "min_height": null,
            "min_width": null,
            "object_fit": null,
            "object_position": null,
            "order": null,
            "overflow": null,
            "overflow_x": null,
            "overflow_y": null,
            "padding": null,
            "right": null,
            "top": null,
            "visibility": null,
            "width": null
          }
        },
        "da83eaaab443409f8d7e283c4ba5f671": {
          "model_module": "@jupyter-widgets/controls",
          "model_name": "DescriptionStyleModel",
          "model_module_version": "1.5.0",
          "state": {
            "_model_module": "@jupyter-widgets/controls",
            "_model_module_version": "1.5.0",
            "_model_name": "DescriptionStyleModel",
            "_view_count": null,
            "_view_module": "@jupyter-widgets/base",
            "_view_module_version": "1.2.0",
            "_view_name": "StyleView",
            "description_width": ""
          }
        },
        "2bd53575f6864ae999f06da4b2d77ba3": {
          "model_module": "@jupyter-widgets/controls",
          "model_name": "HBoxModel",
          "model_module_version": "1.5.0",
          "state": {
            "_dom_classes": [],
            "_model_module": "@jupyter-widgets/controls",
            "_model_module_version": "1.5.0",
            "_model_name": "HBoxModel",
            "_view_count": null,
            "_view_module": "@jupyter-widgets/controls",
            "_view_module_version": "1.5.0",
            "_view_name": "HBoxView",
            "box_style": "",
            "children": [
              "IPY_MODEL_673adeb3150f44438a5418f72bd99575",
              "IPY_MODEL_aa97dd18fe55426f88710163c1649d10",
              "IPY_MODEL_97e59a429ae6491f9aecb322f620b2fa"
            ],
            "layout": "IPY_MODEL_ae8e4898f14540dd9c09df03ab8e9c91"
          }
        },
        "673adeb3150f44438a5418f72bd99575": {
          "model_module": "@jupyter-widgets/controls",
          "model_name": "HTMLModel",
          "model_module_version": "1.5.0",
          "state": {
            "_dom_classes": [],
            "_model_module": "@jupyter-widgets/controls",
            "_model_module_version": "1.5.0",
            "_model_name": "HTMLModel",
            "_view_count": null,
            "_view_module": "@jupyter-widgets/controls",
            "_view_module_version": "1.5.0",
            "_view_name": "HTMLView",
            "description": "",
            "description_tooltip": null,
            "layout": "IPY_MODEL_d9e96f3625714b71902c9e25dccad5a6",
            "placeholder": "​",
            "style": "IPY_MODEL_ed27681ccf1e449592aee49bbf9071a4",
            "value": "Downloading (…)cial_tokens_map.json: 100%"
          }
        },
        "aa97dd18fe55426f88710163c1649d10": {
          "model_module": "@jupyter-widgets/controls",
          "model_name": "FloatProgressModel",
          "model_module_version": "1.5.0",
          "state": {
            "_dom_classes": [],
            "_model_module": "@jupyter-widgets/controls",
            "_model_module_version": "1.5.0",
            "_model_name": "FloatProgressModel",
            "_view_count": null,
            "_view_module": "@jupyter-widgets/controls",
            "_view_module_version": "1.5.0",
            "_view_name": "ProgressView",
            "bar_style": "success",
            "description": "",
            "description_tooltip": null,
            "layout": "IPY_MODEL_a30ed0ad37d14d85b6b8b866f704f89f",
            "max": 450,
            "min": 0,
            "orientation": "horizontal",
            "style": "IPY_MODEL_961ca084be0a478299b153e63bcb35d4",
            "value": 450
          }
        },
        "97e59a429ae6491f9aecb322f620b2fa": {
          "model_module": "@jupyter-widgets/controls",
          "model_name": "HTMLModel",
          "model_module_version": "1.5.0",
          "state": {
            "_dom_classes": [],
            "_model_module": "@jupyter-widgets/controls",
            "_model_module_version": "1.5.0",
            "_model_name": "HTMLModel",
            "_view_count": null,
            "_view_module": "@jupyter-widgets/controls",
            "_view_module_version": "1.5.0",
            "_view_name": "HTMLView",
            "description": "",
            "description_tooltip": null,
            "layout": "IPY_MODEL_8cf83a23934348e5b095ef885627d67d",
            "placeholder": "​",
            "style": "IPY_MODEL_71a42f17b0d14a709b94d3d0829f619d",
            "value": " 450/450 [00:00&lt;00:00, 37.3kB/s]"
          }
        },
        "ae8e4898f14540dd9c09df03ab8e9c91": {
          "model_module": "@jupyter-widgets/base",
          "model_name": "LayoutModel",
          "model_module_version": "1.2.0",
          "state": {
            "_model_module": "@jupyter-widgets/base",
            "_model_module_version": "1.2.0",
            "_model_name": "LayoutModel",
            "_view_count": null,
            "_view_module": "@jupyter-widgets/base",
            "_view_module_version": "1.2.0",
            "_view_name": "LayoutView",
            "align_content": null,
            "align_items": null,
            "align_self": null,
            "border": null,
            "bottom": null,
            "display": null,
            "flex": null,
            "flex_flow": null,
            "grid_area": null,
            "grid_auto_columns": null,
            "grid_auto_flow": null,
            "grid_auto_rows": null,
            "grid_column": null,
            "grid_gap": null,
            "grid_row": null,
            "grid_template_areas": null,
            "grid_template_columns": null,
            "grid_template_rows": null,
            "height": null,
            "justify_content": null,
            "justify_items": null,
            "left": null,
            "margin": null,
            "max_height": null,
            "max_width": null,
            "min_height": null,
            "min_width": null,
            "object_fit": null,
            "object_position": null,
            "order": null,
            "overflow": null,
            "overflow_x": null,
            "overflow_y": null,
            "padding": null,
            "right": null,
            "top": null,
            "visibility": null,
            "width": null
          }
        },
        "d9e96f3625714b71902c9e25dccad5a6": {
          "model_module": "@jupyter-widgets/base",
          "model_name": "LayoutModel",
          "model_module_version": "1.2.0",
          "state": {
            "_model_module": "@jupyter-widgets/base",
            "_model_module_version": "1.2.0",
            "_model_name": "LayoutModel",
            "_view_count": null,
            "_view_module": "@jupyter-widgets/base",
            "_view_module_version": "1.2.0",
            "_view_name": "LayoutView",
            "align_content": null,
            "align_items": null,
            "align_self": null,
            "border": null,
            "bottom": null,
            "display": null,
            "flex": null,
            "flex_flow": null,
            "grid_area": null,
            "grid_auto_columns": null,
            "grid_auto_flow": null,
            "grid_auto_rows": null,
            "grid_column": null,
            "grid_gap": null,
            "grid_row": null,
            "grid_template_areas": null,
            "grid_template_columns": null,
            "grid_template_rows": null,
            "height": null,
            "justify_content": null,
            "justify_items": null,
            "left": null,
            "margin": null,
            "max_height": null,
            "max_width": null,
            "min_height": null,
            "min_width": null,
            "object_fit": null,
            "object_position": null,
            "order": null,
            "overflow": null,
            "overflow_x": null,
            "overflow_y": null,
            "padding": null,
            "right": null,
            "top": null,
            "visibility": null,
            "width": null
          }
        },
        "ed27681ccf1e449592aee49bbf9071a4": {
          "model_module": "@jupyter-widgets/controls",
          "model_name": "DescriptionStyleModel",
          "model_module_version": "1.5.0",
          "state": {
            "_model_module": "@jupyter-widgets/controls",
            "_model_module_version": "1.5.0",
            "_model_name": "DescriptionStyleModel",
            "_view_count": null,
            "_view_module": "@jupyter-widgets/base",
            "_view_module_version": "1.2.0",
            "_view_name": "StyleView",
            "description_width": ""
          }
        },
        "a30ed0ad37d14d85b6b8b866f704f89f": {
          "model_module": "@jupyter-widgets/base",
          "model_name": "LayoutModel",
          "model_module_version": "1.2.0",
          "state": {
            "_model_module": "@jupyter-widgets/base",
            "_model_module_version": "1.2.0",
            "_model_name": "LayoutModel",
            "_view_count": null,
            "_view_module": "@jupyter-widgets/base",
            "_view_module_version": "1.2.0",
            "_view_name": "LayoutView",
            "align_content": null,
            "align_items": null,
            "align_self": null,
            "border": null,
            "bottom": null,
            "display": null,
            "flex": null,
            "flex_flow": null,
            "grid_area": null,
            "grid_auto_columns": null,
            "grid_auto_flow": null,
            "grid_auto_rows": null,
            "grid_column": null,
            "grid_gap": null,
            "grid_row": null,
            "grid_template_areas": null,
            "grid_template_columns": null,
            "grid_template_rows": null,
            "height": null,
            "justify_content": null,
            "justify_items": null,
            "left": null,
            "margin": null,
            "max_height": null,
            "max_width": null,
            "min_height": null,
            "min_width": null,
            "object_fit": null,
            "object_position": null,
            "order": null,
            "overflow": null,
            "overflow_x": null,
            "overflow_y": null,
            "padding": null,
            "right": null,
            "top": null,
            "visibility": null,
            "width": null
          }
        },
        "961ca084be0a478299b153e63bcb35d4": {
          "model_module": "@jupyter-widgets/controls",
          "model_name": "ProgressStyleModel",
          "model_module_version": "1.5.0",
          "state": {
            "_model_module": "@jupyter-widgets/controls",
            "_model_module_version": "1.5.0",
            "_model_name": "ProgressStyleModel",
            "_view_count": null,
            "_view_module": "@jupyter-widgets/base",
            "_view_module_version": "1.2.0",
            "_view_name": "StyleView",
            "bar_color": null,
            "description_width": ""
          }
        },
        "8cf83a23934348e5b095ef885627d67d": {
          "model_module": "@jupyter-widgets/base",
          "model_name": "LayoutModel",
          "model_module_version": "1.2.0",
          "state": {
            "_model_module": "@jupyter-widgets/base",
            "_model_module_version": "1.2.0",
            "_model_name": "LayoutModel",
            "_view_count": null,
            "_view_module": "@jupyter-widgets/base",
            "_view_module_version": "1.2.0",
            "_view_name": "LayoutView",
            "align_content": null,
            "align_items": null,
            "align_self": null,
            "border": null,
            "bottom": null,
            "display": null,
            "flex": null,
            "flex_flow": null,
            "grid_area": null,
            "grid_auto_columns": null,
            "grid_auto_flow": null,
            "grid_auto_rows": null,
            "grid_column": null,
            "grid_gap": null,
            "grid_row": null,
            "grid_template_areas": null,
            "grid_template_columns": null,
            "grid_template_rows": null,
            "height": null,
            "justify_content": null,
            "justify_items": null,
            "left": null,
            "margin": null,
            "max_height": null,
            "max_width": null,
            "min_height": null,
            "min_width": null,
            "object_fit": null,
            "object_position": null,
            "order": null,
            "overflow": null,
            "overflow_x": null,
            "overflow_y": null,
            "padding": null,
            "right": null,
            "top": null,
            "visibility": null,
            "width": null
          }
        },
        "71a42f17b0d14a709b94d3d0829f619d": {
          "model_module": "@jupyter-widgets/controls",
          "model_name": "DescriptionStyleModel",
          "model_module_version": "1.5.0",
          "state": {
            "_model_module": "@jupyter-widgets/controls",
            "_model_module_version": "1.5.0",
            "_model_name": "DescriptionStyleModel",
            "_view_count": null,
            "_view_module": "@jupyter-widgets/base",
            "_view_module_version": "1.2.0",
            "_view_name": "StyleView",
            "description_width": ""
          }
        }
      }
    }
  },
  "cells": [
    {
      "cell_type": "markdown",
      "source": [
        "# Install Dependencies and Import Modules\n",
        "\n"
      ],
      "metadata": {
        "id": "o7B20_yp8XQU"
      }
    },
    {
      "cell_type": "code",
      "execution_count": null,
      "metadata": {
        "id": "mnZqZFnPsTCv"
      },
      "outputs": [],
      "source": [
        "!pip install transformers accelerate einops sentencepiece"
      ]
    },
    {
      "cell_type": "code",
      "source": [
        "from transformers import AutoTokenizer, AutoModelForCausalLM, pipeline\n",
        "import transformers\n",
        "import torch"
      ],
      "metadata": {
        "id": "giYyj0jtsWgr"
      },
      "execution_count": 2,
      "outputs": []
    },
    {
      "cell_type": "markdown",
      "source": [
        "# Load the Model and Tokenizer\n",
        "\n",
        "This may take a while. It also requires a lot of RAM."
      ],
      "metadata": {
        "id": "SmFeUAB48hxA"
      }
    },
    {
      "cell_type": "code",
      "source": [
        "model_path = \"OpenAssistant/falcon-7b-sft-mix-2000\""
      ],
      "metadata": {
        "id": "rUCYBuA77SqY"
      },
      "execution_count": 3,
      "outputs": []
    },
    {
      "cell_type": "code",
      "source": [
        "tokenizer = AutoTokenizer.from_pretrained(model_path, use_fast=False)"
      ],
      "metadata": {
        "id": "FhYXfo6X3Rdl",
        "colab": {
          "base_uri": "https://localhost:8080/",
          "height": 113,
          "referenced_widgets": [
            "b88f5ba20f1d45bfb297f8b8cb5cbc40",
            "f40fcee2d9924a45b015f6eb085e9ccc",
            "8c49e483d4174576b84fe5d7a439db26",
            "1ae55a4b0cc547b69eb7967a5d07c97a",
            "71b133bd723648caaed698e898776ca8",
            "73ebfd79071f4515891795f32a9c0a1f",
            "eb248aa21746490a809782cd860b2fd5",
            "c1c201e5912547b48633cfe95663184b",
            "1f9fc01576a247949e0aa73d8e8afe46",
            "5d57fd5eb1d247c1a74dbd1c33fb7afe",
            "04ac92d3fd8d4f93851f5fdd3198bd1b",
            "9dd25ef47b6a4cb385ef9c73d85a7a78",
            "153e523ed0c149ccab59348e6f17a92a",
            "68535d4677554e64bbbbcaaccf429ea3",
            "3134da0113334e009250936e23a97934",
            "99892f25ccbe408fa1945b4ff0acf160",
            "3b21a0099c8449c289c058df526a481b",
            "1da8674f896544a19d3a8f985a1216e9",
            "f5a256fd7e6f4673acdcdb0bf5d00956",
            "d1b3b55774c346c4b5f99ebc9746abe1",
            "7a3e1f6c573a4e9e8af81559b42be8fc",
            "da83eaaab443409f8d7e283c4ba5f671",
            "2bd53575f6864ae999f06da4b2d77ba3",
            "673adeb3150f44438a5418f72bd99575",
            "aa97dd18fe55426f88710163c1649d10",
            "97e59a429ae6491f9aecb322f620b2fa",
            "ae8e4898f14540dd9c09df03ab8e9c91",
            "d9e96f3625714b71902c9e25dccad5a6",
            "ed27681ccf1e449592aee49bbf9071a4",
            "a30ed0ad37d14d85b6b8b866f704f89f",
            "961ca084be0a478299b153e63bcb35d4",
            "8cf83a23934348e5b095ef885627d67d",
            "71a42f17b0d14a709b94d3d0829f619d"
          ]
        },
        "outputId": "feada644-ebb7-4168-8a50-7f674d658f45"
      },
      "execution_count": 4,
      "outputs": [
        {
          "output_type": "display_data",
          "data": {
            "text/plain": [
              "Downloading (…)okenizer_config.json:   0%|          | 0.00/215 [00:00<?, ?B/s]"
            ],
            "application/vnd.jupyter.widget-view+json": {
              "version_major": 2,
              "version_minor": 0,
              "model_id": "b88f5ba20f1d45bfb297f8b8cb5cbc40"
            }
          },
          "metadata": {}
        },
        {
          "output_type": "display_data",
          "data": {
            "text/plain": [
              "Downloading (…)/main/tokenizer.json:   0%|          | 0.00/2.74M [00:00<?, ?B/s]"
            ],
            "application/vnd.jupyter.widget-view+json": {
              "version_major": 2,
              "version_minor": 0,
              "model_id": "9dd25ef47b6a4cb385ef9c73d85a7a78"
            }
          },
          "metadata": {}
        },
        {
          "output_type": "display_data",
          "data": {
            "text/plain": [
              "Downloading (…)cial_tokens_map.json:   0%|          | 0.00/450 [00:00<?, ?B/s]"
            ],
            "application/vnd.jupyter.widget-view+json": {
              "version_major": 2,
              "version_minor": 0,
              "model_id": "2bd53575f6864ae999f06da4b2d77ba3"
            }
          },
          "metadata": {}
        }
      ]
    },
    {
      "cell_type": "code",
      "source": [
        "model = AutoModelForCausalLM.from_pretrained(model_path, trust_remote_code=True)\n",
        "model.to(\"cuda:0\")"
      ],
      "metadata": {
        "id": "VJP5IpTO0A5A"
      },
      "execution_count": null,
      "outputs": []
    },
    {
      "cell_type": "markdown",
      "source": [
        "# Your Prompt\n",
        "\n",
        "You only need to change the prompt below."
      ],
      "metadata": {
        "id": "0LmPrfyW8wdN"
      }
    },
    {
      "cell_type": "code",
      "source": [
        "prompt = \"Describe a painting of a falcon hunting a llama in a very detailed way.\" #@param\n",
        "prompt_template = f\"<|prompter|>{prompt}<|endoftext|><|assistant|>\""
      ],
      "metadata": {
        "id": "ZCe5fAtX7iff"
      },
      "execution_count": 6,
      "outputs": []
    },
    {
      "cell_type": "markdown",
      "source": [
        "This will generate the output:"
      ],
      "metadata": {
        "id": "rANxDNHy860j"
      }
    },
    {
      "cell_type": "code",
      "source": [
        "tokens = tokenizer(prompt_template, return_tensors=\"pt\").input_ids.to(\"cuda:0\")\n",
        "output = model.generate(input_ids=tokens, max_new_tokens=256, do_sample=True, temperature=0.8)"
      ],
      "metadata": {
        "colab": {
          "base_uri": "https://localhost:8080/"
        },
        "id": "q92hidZk29wN",
        "outputId": "169cd04b-d3c7-48c7-ae90-3fdf6b43b119"
      },
      "execution_count": 7,
      "outputs": [
        {
          "output_type": "stream",
          "name": "stderr",
          "text": [
            "/usr/local/lib/python3.10/dist-packages/transformers/generation/utils.py:1259: UserWarning: You have modified the pretrained model configuration to control generation. This is a deprecated strategy to control generation and will be removed soon, in a future version. Please use a generation configuration file (see https://huggingface.co/docs/transformers/main_classes/text_generation)\n",
            "  warnings.warn(\n",
            "The attention mask and the pad token id were not set. As a consequence, you may observe unexpected behavior. Please pass your input's `attention_mask` to obtain reliable results.\n",
            "Setting `pad_token_id` to `eos_token_id`:11 for open-end generation.\n"
          ]
        }
      ]
    },
    {
      "cell_type": "code",
      "source": [
        "# Print the generated text\n",
        "print(tokenizer.decode(output[0]))"
      ],
      "metadata": {
        "colab": {
          "base_uri": "https://localhost:8080/"
        },
        "id": "6cXDzm1-4qkL",
        "outputId": "7c531905-83e1-441e-f6c6-ae4d235818e3"
      },
      "execution_count": 8,
      "outputs": [
        {
          "output_type": "stream",
          "name": "stdout",
          "text": [
            "<|prompter|>Describe a painting of a falcon hunting a llama in a very detailed way.<|endoftext|><|assistant|>The painting features a majestic falcon perched on the back of a llama. The falcon has its talons dug into the llama's back, and its piercing gaze is fixed on its prey. The llama, on the other hand, is struggling to keep its balance, its legs splayed out to the side as it tries to navigate the treacherous terrain. The falcon's feathers are fluffed out, his wings stretched wide open as he prepares to strike. The llamas fur is matted down with sweat and dirt, its eyes wide with terror. The painting is done in a realistic style, with a detailed rendering of the animals and their surroundings.<|endoftext|>\n"
          ]
        }
      ]
    },
    {
      "cell_type": "code",
      "source": [],
      "metadata": {
        "id": "EcnYpe6JjrY4"
      },
      "execution_count": null,
      "outputs": []
    },
    {
      "cell_type": "markdown",
      "source": [
        "Even without quantization, this model runs faster than falcon40B quantized or not.\n",
        "\n",
        "### Resources used\n",
        "\n",
        "![2023-06-11 14.43.54 colab.research.google.com 2af7cba0f50a.png](data:image/png;base64,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)"
      ],
      "metadata": {
        "id": "ocKlVqVwjsF3"
      }
    },
    {
      "cell_type": "code",
      "source": [],
      "metadata": {
        "id": "whVHcQqwj4iM"
      },
      "execution_count": null,
      "outputs": []
    }
  ]
}